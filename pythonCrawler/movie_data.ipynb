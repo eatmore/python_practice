{
 "cells": [
  {
   "cell_type": "code",
   "execution_count": 1,
   "metadata": {},
   "outputs": [],
   "source": [
    "import requests, time, csv"
   ]
  },
  {
   "cell_type": "code",
   "execution_count": 2,
   "metadata": {},
   "outputs": [],
   "source": [
    "#下载肖生克救赎的海报"
   ]
  },
  {
   "cell_type": "code",
   "execution_count": 3,
   "metadata": {},
   "outputs": [],
   "source": [
    "r = requests.get('https://api.douban.com/v2/movie/1292052?apikey=0df993c66c0c636e29ecbb5344252a4a', headers={'user-agent':'chrome'})"
   ]
  },
  {
   "cell_type": "code",
   "execution_count": 4,
   "metadata": {},
   "outputs": [],
   "source": [
    "data = r.json()"
   ]
  },
  {
   "cell_type": "code",
   "execution_count": 5,
   "metadata": {},
   "outputs": [],
   "source": [
    "url_img = data['image']"
   ]
  },
  {
   "cell_type": "code",
   "execution_count": 6,
   "metadata": {},
   "outputs": [],
   "source": [
    "# print(url)"
   ]
  },
  {
   "cell_type": "code",
   "execution_count": 7,
   "metadata": {},
   "outputs": [],
   "source": [
    "img = requests.get(url_img).content"
   ]
  },
  {
   "cell_type": "code",
   "execution_count": 8,
   "metadata": {},
   "outputs": [],
   "source": [
    "with open('post/file.jpg','wb') as f:\n",
    "    f.write(img)"
   ]
  },
  {
   "cell_type": "code",
   "execution_count": 9,
   "metadata": {},
   "outputs": [],
   "source": [
    "#获取top250电影的编号、电影名、主演、评分、海报地址"
   ]
  },
  {
   "cell_type": "code",
   "execution_count": 10,
   "metadata": {},
   "outputs": [],
   "source": [
    "#def getMovie(num):   "
   ]
  },
  {
   "cell_type": "code",
   "execution_count": 11,
   "metadata": {},
   "outputs": [],
   "source": [
    "def movie_top_data(start):\n",
    "    url_movie = 'https://api.douban.com/v2/movie/top250?start=%d&apikey=0df993c66c0c636e29ecbb5344252a4a'%start\n",
    "    r_movie = requests.get(url_movie,headers={'user-agent':'chrome'})\n",
    "    movie_data = r_movie.json()\n",
    "    #print(movie_data)\n",
    "    movie_data_list = []\n",
    "    movie_one_data = []\n",
    "    for i in movie_data['subjects']:\n",
    "        title = i['title']\n",
    "        casts = ''\n",
    "        for actor in i['casts']:\n",
    "            casts_name = actor['name']\n",
    "            casts = casts  + casts_name + ', '\n",
    "        rating = i['rating']['average']\n",
    "        image = i['images']['small']\n",
    "        movie_one_data = [title, casts, rating, image]\n",
    "        #print(moive_data_list)\n",
    "        #movie_data_list += movie_one_data\n",
    "        movie_data_list.append(movie_one_data)\n",
    "    return movie_data_list"
   ]
  },
  {
   "cell_type": "code",
   "execution_count": 12,
   "metadata": {},
   "outputs": [],
   "source": [
    "movie_data_all = []\n",
    "movie_data_list = []\n",
    "start = 0\n",
    "while start < 250:\n",
    "    movie_data_list = movie_top_data(start)\n",
    "    start += 20\n",
    "    time.sleep(2)\n",
    "    movie_data_all += movie_data_list\n",
    "#print(movie_data_all)"
   ]
  },
  {
   "cell_type": "code",
   "execution_count": 13,
   "metadata": {},
   "outputs": [],
   "source": [
    "with open('movie_data.csv', 'w', newline='') as csvfile:\n",
    "    writer = csv.writer(csvfile)\n",
    "    for line in movie_data_all:\n",
    "        writer.writerow(line)"
   ]
  }
 ],
 "metadata": {
  "kernelspec": {
   "display_name": "Python 3",
   "language": "python",
   "name": "python3"
  },
  "language_info": {
   "codemirror_mode": {
    "name": "ipython",
    "version": 3
   },
   "file_extension": ".py",
   "mimetype": "text/x-python",
   "name": "python",
   "nbconvert_exporter": "python",
   "pygments_lexer": "ipython3",
   "version": "3.7.4"
  }
 },
 "nbformat": 4,
 "nbformat_minor": 2
}
